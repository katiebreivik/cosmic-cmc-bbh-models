{
 "cells": [
  {
   "cell_type": "code",
   "execution_count": 1,
   "metadata": {},
   "outputs": [],
   "source": [
    "import numpy as np\n",
    "import matplotlib.pyplot as plt\n",
    "import pandas as pd"
   ]
  },
  {
   "cell_type": "markdown",
   "metadata": {},
   "source": [
    "## The dat files are ordered as: \n",
    "model, rv, Rgc, Z, N(x10^5), t_merge(Myr), id1, id2, m1, m2, spin1, spin2, v_kick, v_esc, channel, id_merger, m_merger, spin_merger, a_final (AU), e_final, cluster age (Myr), t_merger_actual(Myr)\n",
    "\n",
    "\n",
    "Merger channel types (for column 14): 1=Ejected merger, 2=In-cluster merger, 3=3-body GW capture merger, 3.5=4-body GW capture, 4=single-single capture"
   ]
  },
  {
   "cell_type": "code",
   "execution_count": 2,
   "metadata": {},
   "outputs": [],
   "source": [
    "dat = np.loadtxt('BBHmergers_with_age_dist.dat')"
   ]
  },
  {
   "cell_type": "code",
   "execution_count": 3,
   "metadata": {},
   "outputs": [],
   "source": [
    "column_keys = ['model', 'rv', 'Rgc', 'Z', 'N', 't_merge', 'id1', 'id2', \n",
    "               'm1', 'm2', 'spin1', 'spin2', 'v_kick', 'v_esc', 'channel', \n",
    "               'id_merger', 'm_merger', 'spin_merger', 'a_final', 'e_final', \n",
    "               'cluster_age', 't_merger_actual']\n",
    "\n",
    "dat = pd.DataFrame(dat, columns=column_keys)"
   ]
  },
  {
   "cell_type": "code",
   "execution_count": 4,
   "metadata": {},
   "outputs": [
    {
     "data": {
      "image/png": "[encoded data removed]",
      "text/plain": [
       "<Figure size 432x288 with 1 Axes>"
      ]
     },
     "metadata": {
      "needs_background": "light"
     },
     "output_type": "display_data"
    }
   ],
   "source": [
    "plt.hist(dat['m1'], histtype='step', bins=30, lw=2)\n",
    "plt.xlabel(r'primary mass [M$_{\\odot}$]', size=14)\n",
    "plt.ylabel(r'counts', size=14)\n",
    "plt.tight_layout()"
   ]
  },
  {
   "cell_type": "code",
   "execution_count": null,
   "metadata": {},
   "outputs": [],
   "source": [
    "plt.hist(dat['t_merger_actual'], histtype='step', bins=30, lw=2)\n",
    "plt.xlabel(r'merger lookback time [Myr]', size=14)\n",
    "plt.ylabel(r'counts', size=14)\n",
    "plt.tight_layout()"
   ]
  }
 ],
 "metadata": {
  "kernelspec": {
   "display_name": "Python 3",
   "language": "python",
   "name": "python3"
  },
  "language_info": {
   "codemirror_mode": {
    "name": "ipython",
    "version": 3
   },
   "file_extension": ".py",
   "mimetype": "text/x-python",
   "name": "python",
   "nbconvert_exporter": "python",
   "pygments_lexer": "ipython3",
   "version": "3.7.9"
  }
 },
 "nbformat": 4,
 "nbformat_minor": 4
}
